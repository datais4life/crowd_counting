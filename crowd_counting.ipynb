{
 "cells": [
  {
   "cell_type": "markdown",
   "id": "e0687a37-8dda-4e85-877f-fca1860e746c",
   "metadata": {},
   "source": [
    "## Crowd Counting Model"
   ]
  },
  {
   "cell_type": "code",
   "execution_count": 1,
   "id": "02bc7dad-64c4-4c36-9372-867502de52ad",
   "metadata": {},
   "outputs": [
    {
     "name": "stdout",
     "output_type": "stream",
     "text": [
      "Requirement already satisfied: torchvision in /usr/local/lib/python3.8/dist-packages (0.17.0)\n",
      "Requirement already satisfied: torch==2.2.0 in /usr/local/lib/python3.8/dist-packages (from torchvision) (2.2.0)\n",
      "Requirement already satisfied: numpy in /usr/local/lib/python3.8/dist-packages (from torchvision) (1.24.4)\n",
      "Requirement already satisfied: requests in /usr/local/lib/python3.8/dist-packages (from torchvision) (2.31.0)\n",
      "Requirement already satisfied: pillow!=8.3.*,>=5.3.0 in /usr/local/lib/python3.8/dist-packages (from torchvision) (10.2.0)\n",
      "Requirement already satisfied: networkx in /usr/local/lib/python3.8/dist-packages (from torch==2.2.0->torchvision) (3.1)\n",
      "Requirement already satisfied: triton==2.2.0; platform_system == \"Linux\" and platform_machine == \"x86_64\" in /usr/local/lib/python3.8/dist-packages (from torch==2.2.0->torchvision) (2.2.0)\n",
      "Requirement already satisfied: nvidia-curand-cu12==10.3.2.106; platform_system == \"Linux\" and platform_machine == \"x86_64\" in /usr/local/lib/python3.8/dist-packages (from torch==2.2.0->torchvision) (10.3.2.106)\n",
      "Requirement already satisfied: sympy in /usr/local/lib/python3.8/dist-packages (from torch==2.2.0->torchvision) (1.12)\n",
      "Requirement already satisfied: nvidia-cuda-nvrtc-cu12==12.1.105; platform_system == \"Linux\" and platform_machine == \"x86_64\" in /usr/local/lib/python3.8/dist-packages (from torch==2.2.0->torchvision) (12.1.105)\n",
      "Requirement already satisfied: nvidia-cusparse-cu12==12.1.0.106; platform_system == \"Linux\" and platform_machine == \"x86_64\" in /usr/local/lib/python3.8/dist-packages (from torch==2.2.0->torchvision) (12.1.0.106)\n",
      "Requirement already satisfied: nvidia-nccl-cu12==2.19.3; platform_system == \"Linux\" and platform_machine == \"x86_64\" in /usr/local/lib/python3.8/dist-packages (from torch==2.2.0->torchvision) (2.19.3)\n",
      "Requirement already satisfied: nvidia-nvtx-cu12==12.1.105; platform_system == \"Linux\" and platform_machine == \"x86_64\" in /usr/local/lib/python3.8/dist-packages (from torch==2.2.0->torchvision) (12.1.105)\n",
      "Requirement already satisfied: nvidia-cufft-cu12==11.0.2.54; platform_system == \"Linux\" and platform_machine == \"x86_64\" in /usr/local/lib/python3.8/dist-packages (from torch==2.2.0->torchvision) (11.0.2.54)\n",
      "Requirement already satisfied: typing-extensions>=4.8.0 in /usr/local/lib/python3.8/dist-packages (from torch==2.2.0->torchvision) (4.9.0)\n",
      "Requirement already satisfied: nvidia-cuda-cupti-cu12==12.1.105; platform_system == \"Linux\" and platform_machine == \"x86_64\" in /usr/local/lib/python3.8/dist-packages (from torch==2.2.0->torchvision) (12.1.105)\n",
      "Requirement already satisfied: jinja2 in /usr/local/lib/python3.8/dist-packages (from torch==2.2.0->torchvision) (3.1.3)\n",
      "Requirement already satisfied: fsspec in /usr/local/lib/python3.8/dist-packages (from torch==2.2.0->torchvision) (2024.2.0)\n",
      "Requirement already satisfied: nvidia-cudnn-cu12==8.9.2.26; platform_system == \"Linux\" and platform_machine == \"x86_64\" in /usr/local/lib/python3.8/dist-packages (from torch==2.2.0->torchvision) (8.9.2.26)\n",
      "Requirement already satisfied: nvidia-cublas-cu12==12.1.3.1; platform_system == \"Linux\" and platform_machine == \"x86_64\" in /usr/local/lib/python3.8/dist-packages (from torch==2.2.0->torchvision) (12.1.3.1)\n",
      "Requirement already satisfied: nvidia-cuda-runtime-cu12==12.1.105; platform_system == \"Linux\" and platform_machine == \"x86_64\" in /usr/local/lib/python3.8/dist-packages (from torch==2.2.0->torchvision) (12.1.105)\n",
      "Requirement already satisfied: nvidia-cusolver-cu12==11.4.5.107; platform_system == \"Linux\" and platform_machine == \"x86_64\" in /usr/local/lib/python3.8/dist-packages (from torch==2.2.0->torchvision) (11.4.5.107)\n",
      "Requirement already satisfied: filelock in /usr/local/lib/python3.8/dist-packages (from torch==2.2.0->torchvision) (3.13.1)\n",
      "Requirement already satisfied: idna<4,>=2.5 in /usr/local/lib/python3.8/dist-packages (from requests->torchvision) (3.6)\n",
      "Requirement already satisfied: urllib3<3,>=1.21.1 in /usr/local/lib/python3.8/dist-packages (from requests->torchvision) (2.2.0)\n",
      "Requirement already satisfied: certifi>=2017.4.17 in /usr/local/lib/python3.8/dist-packages (from requests->torchvision) (2024.2.2)\n",
      "Requirement already satisfied: charset-normalizer<4,>=2 in /usr/local/lib/python3.8/dist-packages (from requests->torchvision) (3.3.2)\n",
      "Requirement already satisfied: mpmath>=0.19 in /usr/local/lib/python3.8/dist-packages (from sympy->torch==2.2.0->torchvision) (1.3.0)\n",
      "Requirement already satisfied: nvidia-nvjitlink-cu12 in /usr/local/lib/python3.8/dist-packages (from nvidia-cusparse-cu12==12.1.0.106; platform_system == \"Linux\" and platform_machine == \"x86_64\"->torch==2.2.0->torchvision) (12.3.101)\n",
      "Requirement already satisfied: MarkupSafe>=2.0 in /usr/local/lib/python3.8/dist-packages (from jinja2->torch==2.2.0->torchvision) (2.1.5)\n",
      "Requirement already satisfied: h5py in /usr/local/lib/python3.8/dist-packages (3.10.0)\n",
      "Requirement already satisfied: numpy>=1.17.3 in /usr/local/lib/python3.8/dist-packages (from h5py) (1.24.4)\n",
      "Requirement already satisfied: google in /usr/local/lib/python3.8/dist-packages (3.0.0)\n",
      "Requirement already satisfied: beautifulsoup4 in /usr/local/lib/python3.8/dist-packages (from google) (4.12.3)\n",
      "Requirement already satisfied: soupsieve>1.2 in /usr/local/lib/python3.8/dist-packages (from beautifulsoup4->google) (2.5)\n",
      "Requirement already satisfied: google-api-core in /usr/local/lib/python3.8/dist-packages (2.17.1)\n",
      "Requirement already satisfied: googleapis-common-protos<2.0.dev0,>=1.56.2 in /usr/local/lib/python3.8/dist-packages (from google-api-core) (1.62.0)\n",
      "Requirement already satisfied: google-auth<3.0.dev0,>=2.14.1 in /usr/local/lib/python3.8/dist-packages (from google-api-core) (2.28.1)\n",
      "Requirement already satisfied: protobuf!=3.20.0,!=3.20.1,!=4.21.0,!=4.21.1,!=4.21.2,!=4.21.3,!=4.21.4,!=4.21.5,<5.0.0.dev0,>=3.19.5 in /usr/local/lib/python3.8/dist-packages (from google-api-core) (4.25.3)\n",
      "Requirement already satisfied: requests<3.0.0.dev0,>=2.18.0 in /usr/local/lib/python3.8/dist-packages (from google-api-core) (2.31.0)\n",
      "Requirement already satisfied: cachetools<6.0,>=2.0.0 in /usr/local/lib/python3.8/dist-packages (from google-auth<3.0.dev0,>=2.14.1->google-api-core) (5.3.3)\n",
      "Requirement already satisfied: pyasn1-modules>=0.2.1 in /usr/local/lib/python3.8/dist-packages (from google-auth<3.0.dev0,>=2.14.1->google-api-core) (0.3.0)\n",
      "Requirement already satisfied: rsa<5,>=3.1.4 in /usr/local/lib/python3.8/dist-packages (from google-auth<3.0.dev0,>=2.14.1->google-api-core) (4.9)\n",
      "Requirement already satisfied: charset-normalizer<4,>=2 in /usr/local/lib/python3.8/dist-packages (from requests<3.0.0.dev0,>=2.18.0->google-api-core) (3.3.2)\n",
      "Requirement already satisfied: urllib3<3,>=1.21.1 in /usr/local/lib/python3.8/dist-packages (from requests<3.0.0.dev0,>=2.18.0->google-api-core) (2.2.0)\n",
      "Requirement already satisfied: idna<4,>=2.5 in /usr/local/lib/python3.8/dist-packages (from requests<3.0.0.dev0,>=2.18.0->google-api-core) (3.6)\n",
      "Requirement already satisfied: certifi>=2017.4.17 in /usr/local/lib/python3.8/dist-packages (from requests<3.0.0.dev0,>=2.18.0->google-api-core) (2024.2.2)\n",
      "Requirement already satisfied: pyasn1<0.6.0,>=0.4.6 in /usr/local/lib/python3.8/dist-packages (from pyasn1-modules>=0.2.1->google-auth<3.0.dev0,>=2.14.1->google-api-core) (0.5.1)\n",
      "Requirement already satisfied: colab in /usr/local/lib/python3.8/dist-packages (1.13.5)\n",
      "Requirement already satisfied: requests>=2.7.0 in /usr/local/lib/python3.8/dist-packages (from colab) (2.31.0)\n",
      "Requirement already satisfied: celery[redis]>=3.1.2 in /usr/local/lib/python3.8/dist-packages (from colab) (5.3.6)\n",
      "Requirement already satisfied: django-revproxy[diazo]>=0.9.9 in /usr/local/lib/python3.8/dist-packages (from colab) (0.12.0)\n",
      "Requirement already satisfied: django-hitcounter>=0.1.1 in /usr/local/lib/python3.8/dist-packages (from colab) (0.1.1)\n",
      "Requirement already satisfied: Django<1.8,>=1.7.10 in /usr/local/lib/python3.8/dist-packages (from colab) (1.7.11)\n",
      "Requirement already satisfied: chardet>=2.3.0 in /usr/local/lib/python3.8/dist-packages (from colab) (5.2.0)\n",
      "Requirement already satisfied: django-haystack>=2.2 in /usr/local/lib/python3.8/dist-packages (from colab) (3.2.1)\n",
      "Requirement already satisfied: Whoosh>=2.7.0 in /usr/local/lib/python3.8/dist-packages (from colab) (2.7.4)\n",
      "Requirement already satisfied: pytz>=2011n in /usr/local/lib/python3.8/dist-packages (from colab) (2024.1)\n",
      "Requirement already satisfied: html2text>=3.200.3 in /usr/local/lib/python3.8/dist-packages (from colab) (2024.2.26)\n",
      "Requirement already satisfied: etiquetando==0.1 in /usr/local/lib/python3.8/dist-packages (from colab) (0.1)\n",
      "Requirement already satisfied: django-taggit>=0.12.1 in /usr/local/lib/python3.8/dist-packages (from colab) (5.0.1)\n",
      "Requirement already satisfied: urllib3<3,>=1.21.1 in /usr/local/lib/python3.8/dist-packages (from requests>=2.7.0->colab) (2.2.0)\n",
      "Requirement already satisfied: idna<4,>=2.5 in /usr/local/lib/python3.8/dist-packages (from requests>=2.7.0->colab) (3.6)\n",
      "Requirement already satisfied: charset-normalizer<4,>=2 in /usr/local/lib/python3.8/dist-packages (from requests>=2.7.0->colab) (3.3.2)\n",
      "Requirement already satisfied: certifi>=2017.4.17 in /usr/local/lib/python3.8/dist-packages (from requests>=2.7.0->colab) (2024.2.2)\n",
      "Requirement already satisfied: click-repl>=0.2.0 in /usr/local/lib/python3.8/dist-packages (from celery[redis]>=3.1.2->colab) (0.3.0)\n",
      "Requirement already satisfied: tzdata>=2022.7 in /usr/local/lib/python3.8/dist-packages (from celery[redis]>=3.1.2->colab) (2024.1)\n",
      "Requirement already satisfied: vine<6.0,>=5.1.0 in /usr/local/lib/python3.8/dist-packages (from celery[redis]>=3.1.2->colab) (5.1.0)\n",
      "Requirement already satisfied: backports.zoneinfo>=0.2.1; python_version < \"3.9\" in /usr/local/lib/python3.8/dist-packages (from celery[redis]>=3.1.2->colab) (0.2.1)\n",
      "Requirement already satisfied: kombu<6.0,>=5.3.4 in /usr/local/lib/python3.8/dist-packages (from celery[redis]>=3.1.2->colab) (5.3.5)\n",
      "Requirement already satisfied: python-dateutil>=2.8.2 in /usr/local/lib/python3.8/dist-packages (from celery[redis]>=3.1.2->colab) (2.8.2)\n",
      "Requirement already satisfied: click<9.0,>=8.1.2 in /usr/local/lib/python3.8/dist-packages (from celery[redis]>=3.1.2->colab) (8.1.7)\n",
      "Requirement already satisfied: click-plugins>=1.1.1 in /usr/local/lib/python3.8/dist-packages (from celery[redis]>=3.1.2->colab) (1.1.1)\n",
      "Requirement already satisfied: click-didyoumean>=0.3.0 in /usr/local/lib/python3.8/dist-packages (from celery[redis]>=3.1.2->colab) (0.3.0)\n",
      "Requirement already satisfied: billiard<5.0,>=4.2.0 in /usr/local/lib/python3.8/dist-packages (from celery[redis]>=3.1.2->colab) (4.2.0)\n",
      "Requirement already satisfied: redis!=4.5.5,<6.0.0,>=4.5.2; extra == \"redis\" in /usr/local/lib/python3.8/dist-packages (from celery[redis]>=3.1.2->colab) (5.0.2)\n",
      "Requirement already satisfied: diazo>=1.0.5; extra == \"diazo\" in /usr/local/lib/python3.8/dist-packages (from django-revproxy[diazo]>=0.9.9->colab) (2.0.0)\n",
      "Requirement already satisfied: lxml>=3.4; extra == \"diazo\" in /usr/local/lib/python3.8/dist-packages (from django-revproxy[diazo]>=0.9.9->colab) (5.1.0)\n",
      "Requirement already satisfied: repoze.lru>=0.6 in /usr/local/lib/python3.8/dist-packages (from etiquetando==0.1->colab) (0.7)\n",
      "Requirement already satisfied: stemming>=1.0 in /usr/local/lib/python3.8/dist-packages (from etiquetando==0.1->colab) (1.0.1)\n",
      "Requirement already satisfied: prompt-toolkit>=3.0.36 in /usr/local/lib/python3.8/dist-packages (from click-repl>=0.2.0->celery[redis]>=3.1.2->colab) (3.0.43)\n",
      "Requirement already satisfied: typing-extensions; python_version < \"3.10\" in /usr/local/lib/python3.8/dist-packages (from kombu<6.0,>=5.3.4->celery[redis]>=3.1.2->colab) (4.9.0)\n",
      "Requirement already satisfied: amqp<6.0.0,>=5.1.1 in /usr/local/lib/python3.8/dist-packages (from kombu<6.0,>=5.3.4->celery[redis]>=3.1.2->colab) (5.2.0)\n",
      "Requirement already satisfied: six>=1.5 in /usr/local/lib/python3.8/dist-packages (from python-dateutil>=2.8.2->celery[redis]>=3.1.2->colab) (1.16.0)\n",
      "Requirement already satisfied: async-timeout>=4.0.3 in /usr/local/lib/python3.8/dist-packages (from redis!=4.5.5,<6.0.0,>=4.5.2; extra == \"redis\"->celery[redis]>=3.1.2->colab) (4.0.3)\n",
      "Requirement already satisfied: cssselect in /usr/local/lib/python3.8/dist-packages (from diazo>=1.0.5; extra == \"diazo\"->django-revproxy[diazo]>=0.9.9->colab) (1.2.0)\n",
      "Requirement already satisfied: wcwidth in /usr/local/lib/python3.8/dist-packages (from prompt-toolkit>=3.0.36->click-repl>=0.2.0->celery[redis]>=3.1.2->colab) (0.2.13)\n"
     ]
    }
   ],
   "source": [
    "# Set up the environment\n",
    "!pip install torchvision\n",
    "#!pip install cython # apt install in terminal\n",
    "!pip install h5py\n",
    "!pip install google\n",
    "!pip install google-api-core\n",
    "!pip install colab"
   ]
  },
  {
   "cell_type": "code",
   "execution_count": 2,
   "id": "ed298a01-c139-429f-b58f-56f54f9052e1",
   "metadata": {},
   "outputs": [
    {
     "name": "stdout",
     "output_type": "stream",
     "text": [
      "/app/CSRNet-pytorch\n"
     ]
    }
   ],
   "source": [
    "# Import the packages\n",
    "%cd CSRNet-pytorch\n",
    "!ln -s ../shanghaitech_with_people_density_map\n",
    "from torch_snippets import *\n",
    "import h5py\n",
    "from scipy import io"
   ]
  },
  {
   "cell_type": "code",
   "execution_count": 3,
   "id": "cd420720-e880-4e48-bc3c-290f37686d0c",
   "metadata": {},
   "outputs": [
    {
     "name": "stdout",
     "output_type": "stream",
     "text": [
      "Requirement already up-to-date: scipy in /usr/local/lib/python3.8/dist-packages (1.10.1)\n",
      "Requirement already up-to-date: torch_snippets in /usr/local/lib/python3.8/dist-packages (0.524)\n",
      "Requirement already up-to-date: torch_summary in /usr/local/lib/python3.8/dist-packages (1.4.5)\n",
      "Requirement already satisfied, skipping upgrade: numpy<1.27.0,>=1.19.5 in /usr/local/lib/python3.8/dist-packages (from scipy) (1.24.4)\n",
      "Requirement already satisfied, skipping upgrade: fuzzywuzzy in /usr/local/lib/python3.8/dist-packages (from torch_snippets) (0.18.0)\n",
      "Requirement already satisfied, skipping upgrade: altair in /usr/local/lib/python3.8/dist-packages (from torch_snippets) (5.2.0)\n",
      "Requirement already satisfied, skipping upgrade: ipython in /usr/local/lib/python3.8/dist-packages (from torch_snippets) (8.12.3)\n",
      "Requirement already satisfied, skipping upgrade: typing-extensions in /usr/local/lib/python3.8/dist-packages (from torch_snippets) (4.9.0)\n",
      "Requirement already satisfied, skipping upgrade: pandas in /usr/local/lib/python3.8/dist-packages (from torch_snippets) (2.0.3)\n",
      "Requirement already satisfied, skipping upgrade: imgaug>=0.4.0 in /usr/local/lib/python3.8/dist-packages (from torch_snippets) (0.4.0)\n",
      "Requirement already satisfied, skipping upgrade: fastcore in /usr/local/lib/python3.8/dist-packages (from torch_snippets) (1.5.29)\n",
      "Requirement already satisfied, skipping upgrade: catalogue in /usr/local/lib/python3.8/dist-packages (from torch_snippets) (2.0.10)\n",
      "Requirement already satisfied, skipping upgrade: matplotlib in /usr/local/lib/python3.8/dist-packages (from torch_snippets) (3.7.5)\n",
      "Requirement already satisfied, skipping upgrade: PyYAML in /usr/local/lib/python3.8/dist-packages (from torch_snippets) (6.0.1)\n",
      "Requirement already satisfied, skipping upgrade: tqdm in /usr/local/lib/python3.8/dist-packages (from torch_snippets) (4.66.2)\n",
      "Requirement already satisfied, skipping upgrade: jsonlines in /usr/local/lib/python3.8/dist-packages (from torch_snippets) (4.0.0)\n",
      "Requirement already satisfied, skipping upgrade: Pillow in /usr/local/lib/python3.8/dist-packages (from torch_snippets) (10.2.0)\n",
      "Requirement already satisfied, skipping upgrade: loguru in /usr/local/lib/python3.8/dist-packages (from torch_snippets) (0.7.2)\n",
      "Requirement already satisfied, skipping upgrade: dill in /usr/local/lib/python3.8/dist-packages (from torch_snippets) (0.3.8)\n",
      "Requirement already satisfied, skipping upgrade: typing in /usr/local/lib/python3.8/dist-packages (from torch_snippets) (3.7.4.3)\n",
      "Requirement already satisfied, skipping upgrade: scikit-learn in /usr/local/lib/python3.8/dist-packages (from torch_snippets) (1.3.2)\n",
      "Requirement already satisfied, skipping upgrade: srsly in /usr/local/lib/python3.8/dist-packages (from torch_snippets) (2.4.8)\n",
      "Requirement already satisfied, skipping upgrade: rich in /usr/local/lib/python3.8/dist-packages (from torch_snippets) (13.7.1)\n",
      "Requirement already satisfied, skipping upgrade: confection in /usr/local/lib/python3.8/dist-packages (from torch_snippets) (0.1.4)\n",
      "Requirement already satisfied, skipping upgrade: pre-commit in /usr/local/lib/python3.8/dist-packages (from torch_snippets) (3.5.0)\n",
      "Requirement already satisfied, skipping upgrade: pydantic in /usr/local/lib/python3.8/dist-packages (from torch_snippets) (2.6.3)\n",
      "Requirement already satisfied, skipping upgrade: nbconvert in /usr/local/lib/python3.8/dist-packages (from torch_snippets) (7.16.0)\n",
      "Requirement already satisfied, skipping upgrade: pymupdf in /usr/local/lib/python3.8/dist-packages (from torch_snippets) (1.23.26)\n",
      "Requirement already satisfied, skipping upgrade: icecream in /usr/local/lib/python3.8/dist-packages (from torch_snippets) (2.1.3)\n",
      "Requirement already satisfied, skipping upgrade: wasabi in /usr/local/lib/python3.8/dist-packages (from torch_snippets) (1.1.2)\n",
      "Requirement already satisfied, skipping upgrade: nbformat in /usr/local/lib/python3.8/dist-packages (from torch_snippets) (5.9.2)\n",
      "Requirement already satisfied, skipping upgrade: nltk in /usr/local/lib/python3.8/dist-packages (from torch_snippets) (3.8.1)\n",
      "Requirement already satisfied, skipping upgrade: python-Levenshtein in /usr/local/lib/python3.8/dist-packages (from torch_snippets) (0.25.0)\n",
      "Requirement already satisfied, skipping upgrade: xmltodict in /usr/local/lib/python3.8/dist-packages (from torch_snippets) (0.13.0)\n",
      "Requirement already satisfied, skipping upgrade: toolz in /usr/local/lib/python3.8/dist-packages (from altair->torch_snippets) (0.12.1)\n",
      "Requirement already satisfied, skipping upgrade: jsonschema>=3.0 in /usr/local/lib/python3.8/dist-packages (from altair->torch_snippets) (4.21.1)\n",
      "Requirement already satisfied, skipping upgrade: packaging in /usr/local/lib/python3.8/dist-packages (from altair->torch_snippets) (23.2)\n",
      "Requirement already satisfied, skipping upgrade: jinja2 in /usr/local/lib/python3.8/dist-packages (from altair->torch_snippets) (3.1.3)\n",
      "Requirement already satisfied, skipping upgrade: matplotlib-inline in /usr/local/lib/python3.8/dist-packages (from ipython->torch_snippets) (0.1.6)\n",
      "Requirement already satisfied, skipping upgrade: jedi>=0.16 in /usr/local/lib/python3.8/dist-packages (from ipython->torch_snippets) (0.19.1)\n",
      "Requirement already satisfied, skipping upgrade: traitlets>=5 in /usr/local/lib/python3.8/dist-packages (from ipython->torch_snippets) (5.14.1)\n",
      "Requirement already satisfied, skipping upgrade: pygments>=2.4.0 in /usr/local/lib/python3.8/dist-packages (from ipython->torch_snippets) (2.17.2)\n",
      "Requirement already satisfied, skipping upgrade: prompt-toolkit!=3.0.37,<3.1.0,>=3.0.30 in /usr/local/lib/python3.8/dist-packages (from ipython->torch_snippets) (3.0.43)\n",
      "Requirement already satisfied, skipping upgrade: decorator in /usr/local/lib/python3.8/dist-packages (from ipython->torch_snippets) (5.1.1)\n",
      "Requirement already satisfied, skipping upgrade: backcall in /usr/local/lib/python3.8/dist-packages (from ipython->torch_snippets) (0.2.0)\n",
      "Requirement already satisfied, skipping upgrade: pexpect>4.3; sys_platform != \"win32\" in /usr/local/lib/python3.8/dist-packages (from ipython->torch_snippets) (4.9.0)\n",
      "Requirement already satisfied, skipping upgrade: stack-data in /usr/local/lib/python3.8/dist-packages (from ipython->torch_snippets) (0.6.3)\n",
      "Requirement already satisfied, skipping upgrade: pickleshare in /usr/local/lib/python3.8/dist-packages (from ipython->torch_snippets) (0.7.5)\n",
      "Requirement already satisfied, skipping upgrade: pytz>=2020.1 in /usr/local/lib/python3.8/dist-packages (from pandas->torch_snippets) (2024.1)\n",
      "Requirement already satisfied, skipping upgrade: tzdata>=2022.1 in /usr/local/lib/python3.8/dist-packages (from pandas->torch_snippets) (2024.1)\n",
      "Requirement already satisfied, skipping upgrade: python-dateutil>=2.8.2 in /usr/local/lib/python3.8/dist-packages (from pandas->torch_snippets) (2.8.2)\n",
      "Requirement already satisfied, skipping upgrade: Shapely in /usr/local/lib/python3.8/dist-packages (from imgaug>=0.4.0->torch_snippets) (2.0.3)\n",
      "Requirement already satisfied, skipping upgrade: imageio in /usr/local/lib/python3.8/dist-packages (from imgaug>=0.4.0->torch_snippets) (2.34.0)\n",
      "Requirement already satisfied, skipping upgrade: opencv-python in /usr/local/lib/python3.8/dist-packages (from imgaug>=0.4.0->torch_snippets) (4.9.0.80)\n",
      "Requirement already satisfied, skipping upgrade: scikit-image>=0.14.2 in /usr/local/lib/python3.8/dist-packages (from imgaug>=0.4.0->torch_snippets) (0.21.0)\n",
      "Requirement already satisfied, skipping upgrade: six in /usr/local/lib/python3.8/dist-packages (from imgaug>=0.4.0->torch_snippets) (1.16.0)\n",
      "Requirement already satisfied, skipping upgrade: pip in /usr/lib/python3/dist-packages (from fastcore->torch_snippets) (20.0.2)\n",
      "Requirement already satisfied, skipping upgrade: contourpy>=1.0.1 in /usr/local/lib/python3.8/dist-packages (from matplotlib->torch_snippets) (1.1.1)\n",
      "Requirement already satisfied, skipping upgrade: pyparsing>=2.3.1 in /usr/local/lib/python3.8/dist-packages (from matplotlib->torch_snippets) (3.1.1)\n",
      "Requirement already satisfied, skipping upgrade: fonttools>=4.22.0 in /usr/local/lib/python3.8/dist-packages (from matplotlib->torch_snippets) (4.49.0)\n",
      "Requirement already satisfied, skipping upgrade: importlib-resources>=3.2.0; python_version < \"3.10\" in /usr/local/lib/python3.8/dist-packages (from matplotlib->torch_snippets) (6.1.1)\n",
      "Requirement already satisfied, skipping upgrade: kiwisolver>=1.0.1 in /usr/local/lib/python3.8/dist-packages (from matplotlib->torch_snippets) (1.4.5)\n",
      "Requirement already satisfied, skipping upgrade: cycler>=0.10 in /usr/local/lib/python3.8/dist-packages (from matplotlib->torch_snippets) (0.12.1)\n",
      "Requirement already satisfied, skipping upgrade: attrs>=19.2.0 in /usr/local/lib/python3.8/dist-packages (from jsonlines->torch_snippets) (23.2.0)\n",
      "Requirement already satisfied, skipping upgrade: threadpoolctl>=2.0.0 in /usr/local/lib/python3.8/dist-packages (from scikit-learn->torch_snippets) (3.3.0)\n",
      "Requirement already satisfied, skipping upgrade: joblib>=1.1.1 in /usr/local/lib/python3.8/dist-packages (from scikit-learn->torch_snippets) (1.3.2)\n",
      "Requirement already satisfied, skipping upgrade: markdown-it-py>=2.2.0 in /usr/local/lib/python3.8/dist-packages (from rich->torch_snippets) (3.0.0)\n",
      "Requirement already satisfied, skipping upgrade: virtualenv>=20.10.0 in /usr/local/lib/python3.8/dist-packages (from pre-commit->torch_snippets) (20.25.1)\n",
      "Requirement already satisfied, skipping upgrade: cfgv>=2.0.0 in /usr/local/lib/python3.8/dist-packages (from pre-commit->torch_snippets) (3.4.0)\n",
      "Requirement already satisfied, skipping upgrade: identify>=1.0.0 in /usr/local/lib/python3.8/dist-packages (from pre-commit->torch_snippets) (2.5.35)\n",
      "Requirement already satisfied, skipping upgrade: nodeenv>=0.11.1 in /usr/local/lib/python3.8/dist-packages (from pre-commit->torch_snippets) (1.8.0)\n",
      "Requirement already satisfied, skipping upgrade: pydantic-core==2.16.3 in /usr/local/lib/python3.8/dist-packages (from pydantic->torch_snippets) (2.16.3)\n",
      "Requirement already satisfied, skipping upgrade: annotated-types>=0.4.0 in /usr/local/lib/python3.8/dist-packages (from pydantic->torch_snippets) (0.6.0)\n",
      "Requirement already satisfied, skipping upgrade: markupsafe>=2.0 in /usr/local/lib/python3.8/dist-packages (from nbconvert->torch_snippets) (2.1.5)\n",
      "Requirement already satisfied, skipping upgrade: importlib-metadata>=3.6; python_version < \"3.10\" in /usr/local/lib/python3.8/dist-packages (from nbconvert->torch_snippets) (7.0.1)\n",
      "Requirement already satisfied, skipping upgrade: jupyterlab-pygments in /usr/local/lib/python3.8/dist-packages (from nbconvert->torch_snippets) (0.3.0)\n",
      "Requirement already satisfied, skipping upgrade: mistune<4,>=2.0.3 in /usr/local/lib/python3.8/dist-packages (from nbconvert->torch_snippets) (3.0.2)\n",
      "Requirement already satisfied, skipping upgrade: bleach!=5.0.0 in /usr/local/lib/python3.8/dist-packages (from nbconvert->torch_snippets) (6.1.0)\n",
      "Requirement already satisfied, skipping upgrade: beautifulsoup4 in /usr/local/lib/python3.8/dist-packages (from nbconvert->torch_snippets) (4.12.3)\n",
      "Requirement already satisfied, skipping upgrade: tinycss2 in /usr/local/lib/python3.8/dist-packages (from nbconvert->torch_snippets) (1.2.1)\n",
      "Requirement already satisfied, skipping upgrade: pandocfilters>=1.4.1 in /usr/local/lib/python3.8/dist-packages (from nbconvert->torch_snippets) (1.5.1)\n",
      "Requirement already satisfied, skipping upgrade: jupyter-core>=4.7 in /usr/local/lib/python3.8/dist-packages (from nbconvert->torch_snippets) (5.7.1)\n",
      "Requirement already satisfied, skipping upgrade: nbclient>=0.5.0 in /usr/local/lib/python3.8/dist-packages (from nbconvert->torch_snippets) (0.9.0)\n",
      "Requirement already satisfied, skipping upgrade: defusedxml in /usr/local/lib/python3.8/dist-packages (from nbconvert->torch_snippets) (0.7.1)\n",
      "Requirement already satisfied, skipping upgrade: PyMuPDFb==1.23.22 in /usr/local/lib/python3.8/dist-packages (from pymupdf->torch_snippets) (1.23.22)\n",
      "Requirement already satisfied, skipping upgrade: executing>=0.3.1 in /usr/local/lib/python3.8/dist-packages (from icecream->torch_snippets) (2.0.1)\n",
      "Requirement already satisfied, skipping upgrade: colorama>=0.3.9 in /usr/local/lib/python3.8/dist-packages (from icecream->torch_snippets) (0.4.6)\n",
      "Requirement already satisfied, skipping upgrade: asttokens>=2.0.1 in /usr/local/lib/python3.8/dist-packages (from icecream->torch_snippets) (2.4.1)\n",
      "Requirement already satisfied, skipping upgrade: fastjsonschema in /usr/local/lib/python3.8/dist-packages (from nbformat->torch_snippets) (2.19.1)\n",
      "Requirement already satisfied, skipping upgrade: regex>=2021.8.3 in /usr/local/lib/python3.8/dist-packages (from nltk->torch_snippets) (2023.12.25)\n",
      "Requirement already satisfied, skipping upgrade: click in /usr/local/lib/python3.8/dist-packages (from nltk->torch_snippets) (8.1.7)\n",
      "Requirement already satisfied, skipping upgrade: Levenshtein==0.25.0 in /usr/local/lib/python3.8/dist-packages (from python-Levenshtein->torch_snippets) (0.25.0)\n",
      "Requirement already satisfied, skipping upgrade: jsonschema-specifications>=2023.03.6 in /usr/local/lib/python3.8/dist-packages (from jsonschema>=3.0->altair->torch_snippets) (2023.12.1)\n",
      "Requirement already satisfied, skipping upgrade: pkgutil-resolve-name>=1.3.10; python_version < \"3.9\" in /usr/local/lib/python3.8/dist-packages (from jsonschema>=3.0->altair->torch_snippets) (1.3.10)\n",
      "Requirement already satisfied, skipping upgrade: referencing>=0.28.4 in /usr/local/lib/python3.8/dist-packages (from jsonschema>=3.0->altair->torch_snippets) (0.33.0)\n",
      "Requirement already satisfied, skipping upgrade: rpds-py>=0.7.1 in /usr/local/lib/python3.8/dist-packages (from jsonschema>=3.0->altair->torch_snippets) (0.17.1)\n",
      "Requirement already satisfied, skipping upgrade: parso<0.9.0,>=0.8.3 in /usr/local/lib/python3.8/dist-packages (from jedi>=0.16->ipython->torch_snippets) (0.8.3)\n",
      "Requirement already satisfied, skipping upgrade: wcwidth in /usr/local/lib/python3.8/dist-packages (from prompt-toolkit!=3.0.37,<3.1.0,>=3.0.30->ipython->torch_snippets) (0.2.13)\n",
      "Requirement already satisfied, skipping upgrade: ptyprocess>=0.5 in /usr/local/lib/python3.8/dist-packages (from pexpect>4.3; sys_platform != \"win32\"->ipython->torch_snippets) (0.7.0)\n",
      "Requirement already satisfied, skipping upgrade: pure-eval in /usr/local/lib/python3.8/dist-packages (from stack-data->ipython->torch_snippets) (0.2.2)\n",
      "Requirement already satisfied, skipping upgrade: tifffile>=2022.8.12 in /usr/local/lib/python3.8/dist-packages (from scikit-image>=0.14.2->imgaug>=0.4.0->torch_snippets) (2023.7.10)\n",
      "Requirement already satisfied, skipping upgrade: networkx>=2.8 in /usr/local/lib/python3.8/dist-packages (from scikit-image>=0.14.2->imgaug>=0.4.0->torch_snippets) (3.1)\n",
      "Requirement already satisfied, skipping upgrade: lazy_loader>=0.2 in /usr/local/lib/python3.8/dist-packages (from scikit-image>=0.14.2->imgaug>=0.4.0->torch_snippets) (0.3)\n",
      "Requirement already satisfied, skipping upgrade: PyWavelets>=1.1.1 in /usr/local/lib/python3.8/dist-packages (from scikit-image>=0.14.2->imgaug>=0.4.0->torch_snippets) (1.4.1)\n",
      "Requirement already satisfied, skipping upgrade: zipp>=3.1.0; python_version < \"3.10\" in /usr/local/lib/python3.8/dist-packages (from importlib-resources>=3.2.0; python_version < \"3.10\"->matplotlib->torch_snippets) (3.17.0)\n",
      "Requirement already satisfied, skipping upgrade: mdurl~=0.1 in /usr/local/lib/python3.8/dist-packages (from markdown-it-py>=2.2.0->rich->torch_snippets) (0.1.2)\n",
      "Requirement already satisfied, skipping upgrade: platformdirs<5,>=3.9.1 in /usr/local/lib/python3.8/dist-packages (from virtualenv>=20.10.0->pre-commit->torch_snippets) (4.2.0)\n",
      "Requirement already satisfied, skipping upgrade: filelock<4,>=3.12.2 in /usr/local/lib/python3.8/dist-packages (from virtualenv>=20.10.0->pre-commit->torch_snippets) (3.13.1)\n",
      "Requirement already satisfied, skipping upgrade: distlib<1,>=0.3.7 in /usr/local/lib/python3.8/dist-packages (from virtualenv>=20.10.0->pre-commit->torch_snippets) (0.3.8)\n",
      "Requirement already satisfied, skipping upgrade: setuptools in /usr/lib/python3/dist-packages (from nodeenv>=0.11.1->pre-commit->torch_snippets) (45.2.0)\n",
      "Requirement already satisfied, skipping upgrade: webencodings in /usr/local/lib/python3.8/dist-packages (from bleach!=5.0.0->nbconvert->torch_snippets) (0.5.1)\n",
      "Requirement already satisfied, skipping upgrade: soupsieve>1.2 in /usr/local/lib/python3.8/dist-packages (from beautifulsoup4->nbconvert->torch_snippets) (2.5)\n",
      "Requirement already satisfied, skipping upgrade: jupyter-client>=6.1.12 in /usr/local/lib/python3.8/dist-packages (from nbclient>=0.5.0->nbconvert->torch_snippets) (8.6.0)\n",
      "Requirement already satisfied, skipping upgrade: rapidfuzz<4.0.0,>=3.1.0 in /usr/local/lib/python3.8/dist-packages (from Levenshtein==0.25.0->python-Levenshtein->torch_snippets) (3.6.1)\n",
      "Requirement already satisfied, skipping upgrade: pyzmq>=23.0 in /usr/local/lib/python3.8/dist-packages (from jupyter-client>=6.1.12->nbclient>=0.5.0->nbconvert->torch_snippets) (25.1.2)\n",
      "Requirement already satisfied, skipping upgrade: tornado>=6.2 in /usr/local/lib/python3.8/dist-packages (from jupyter-client>=6.1.12->nbclient>=0.5.0->nbconvert->torch_snippets) (6.4)\n",
      "Cloning into 'CSRNet-pytorch'...\n",
      "remote: Enumerating objects: 92, done.\u001b[K\n",
      "remote: Total 92 (delta 0), reused 0 (delta 0), pack-reused 92\u001b[K\n",
      "Unpacking objects: 100% (92/92), 623.72 KiB | 1.44 MiB/s, done.\n",
      "CPU times: user 38.3 ms, sys: 25.5 ms, total: 63.8 ms\n",
      "Wall time: 3.74 s\n"
     ]
    }
   ],
   "source": [
    "%%time\n",
    "import os\n",
    "# Download the architecture\n",
    "if not os.path.exists('CSRNet-pytorch/'):\n",
    "    !pip install -U scipy torch_snippets torch_summary\n",
    "    !git clone https://github.com/sizhky/CSRNet-pytorch.git\n",
    "    "
   ]
  },
  {
   "cell_type": "code",
   "execution_count": 4,
   "id": "794796e5-d4ac-4641-aa3e-16c5620b8e9c",
   "metadata": {},
   "outputs": [
    {
     "data": {
      "text/html": [
       "<pre style=\"white-space:pre;overflow-x:auto;line-height:normal;font-family:Menlo,'DejaVu Sans Mono',consolas,'Courier New',monospace\">unzipping data<span style=\"color: #808000; text-decoration-color: #808000\">...</span>\n",
       "</pre>\n"
      ],
      "text/plain": [
       "unzipping data\u001b[33m...\u001b[0m\n"
      ]
     },
     "metadata": {},
     "output_type": "display_data"
    },
    {
     "name": "stdout",
     "output_type": "stream",
     "text": [
      "unzip:  cannot find or open shanghaitech.zip, shanghaitech.zip.zip or shanghaitech.zip.ZIP.\n"
     ]
    }
   ],
   "source": [
    "# Unzip the dataset\n",
    "print('unzipping data...')\n",
    "!unzip -qq shanghaitech.zip"
   ]
  },
  {
   "cell_type": "code",
   "execution_count": 5,
   "id": "d482d60b-f78d-49e2-a104-f5e6e47d9d9a",
   "metadata": {},
   "outputs": [],
   "source": [
    "# Provide the location of the images, ground truth and heatmap folders\n",
    "part_A = Glob('shanghaitech_with_people_density_map/ShanghaiTech/part_A/train_data/');\n",
    "\n",
    "image_folder = 'shanghaitech_with_people_density_map/ShanghaiTech/part_A/train_data/images/'\n",
    "heatmap_folder = 'shanghaitech_with_people_density_map/ShanghaiTech/part_A/train_data/ground-truth-h5/'\n",
    "gt_folder = 'shanghaitech_with_people_density_map/ShanghaiTech/part_A/train_data/ground-truth/'"
   ]
  },
  {
   "cell_type": "code",
   "execution_count": 6,
   "id": "2f44e944-4a41-4873-a69d-04a0f5b5a896",
   "metadata": {},
   "outputs": [],
   "source": [
    "# Define the training and validation datasets and dataloaders\n",
    "device = 'cuda' if torch.cuda.is_available() else 'cpu'\n",
    "tfm = T.Compose([\n",
    "    T.ToTensor()\n",
    "])\n",
    "\n",
    "class Crowds(Dataset):\n",
    "    def __init__(self, stems):\n",
    "        self.stems = stems\n",
    "\n",
    "    def __len__(self):\n",
    "        return len(self.stems)\n",
    "\n",
    "    def __getitem__(self, ix):\n",
    "        _stem = self.stems[ix]\n",
    "        image_path = f'{image_folder}/{_stem}.jpg'\n",
    "        heatmap_path = f'{heatmap_folder}/{_stem}.h5'\n",
    "        gt_path = f'{gt_folder}/GT_{_stem}.mat'\n",
    "\n",
    "        pts = io.loadmat(gt_path)\n",
    "        pts = len(pts['image_info'][0,0][0,0][0])\n",
    "\n",
    "        image = read(image_path, 1)\n",
    "        with h5py.File(heatmap_path, 'r') as hf:\n",
    "            gt = hf['density'][:]\n",
    "        gt = resize(gt, 1/8)*64\n",
    "        return image.copy(), gt.copy(), pts\n",
    "\n",
    "    def collate_fn(self, batch):\n",
    "        ims, gts, pts = list(zip(*batch))\n",
    "        ims = torch.cat([tfm(im)[None] for im in ims]).to(device)\n",
    "        gts = torch.cat([tfm(gt)[None] for gt in gts]).to(device)\n",
    "        return ims, gts, torch.tensor(pts).to(device)\n",
    "\n",
    "    def choose(self):\n",
    "        return self[randint(len(self))]\n",
    "\n",
    "from sklearn.model_selection import train_test_split\n",
    "trn_stems, val_stems = train_test_split(stems(Glob(image_folder)), random_state=10)\n",
    "\n",
    "trn_ds = Crowds(trn_stems)\n",
    "val_ds = Crowds(val_stems)\n",
    "\n",
    "trn_dl = DataLoader(trn_ds, batch_size=1, shuffle=True, collate_fn=trn_ds.collate_fn)\n",
    "val_dl = DataLoader(val_ds, batch_size=1, shuffle=True, collate_fn=val_ds.collate_fn)"
   ]
  },
  {
   "cell_type": "code",
   "execution_count": 7,
   "id": "e0c8822d-2f41-4690-8475-81cd86acc97a",
   "metadata": {},
   "outputs": [
    {
     "name": "stdout",
     "output_type": "stream",
     "text": [
      "Requirement already satisfied: python-utils in /usr/local/lib/python3.8/dist-packages (3.8.2)\n",
      "Requirement already satisfied: typing-extensions>3.10.0.2 in /usr/local/lib/python3.8/dist-packages (from python-utils) (4.9.0)\n"
     ]
    }
   ],
   "source": [
    "!pip install python-utils"
   ]
  },
  {
   "cell_type": "code",
   "execution_count": 9,
   "id": "568edb06-8f85-4292-a123-c882bb3d0f1a",
   "metadata": {},
   "outputs": [],
   "source": [
    "# Define the network architecture\n",
    "import torch.nn as nn\n",
    "import torch\n",
    "from torchvision import models\n",
    "import sys\n",
    "#sys.path.insert(0, '/app/CSRNet-pytorch/')\n",
    "import utils \n",
    "from utils import save_net,load_net\n",
    "\n",
    "\n",
    "\n",
    "def make_layers(cfg, in_channels = 3,batch_norm=False,dilation = False):\n",
    "    if dilation:\n",
    "        d_rate = 2\n",
    "    else:\n",
    "        d_rate = 1\n",
    "    layers = []\n",
    "    for v in cfg:\n",
    "        if v == 'M':\n",
    "            layers += [nn.MaxPool2d(kernel_size=2, stride=2)]\n",
    "        else:\n",
    "            conv2d = nn.Conv2d(in_channels, v, kernel_size=3, padding=d_rate, dilation=d_rate)\n",
    "            if batch_norm:\n",
    "                layers += [conv2d, nn.BatchNorm2d(v), nn.ReLU(inplace=True)]\n",
    "            else:\n",
    "                layers += [conv2d, nn.ReLU(inplace=True)]\n",
    "            in_channels = v\n",
    "    return nn.Sequential(*layers)"
   ]
  },
  {
   "cell_type": "code",
   "execution_count": 10,
   "id": "e785efcd-1df3-4c73-af1d-0d59b7dc601e",
   "metadata": {},
   "outputs": [],
   "source": [
    "# Define the CSRNet network architec\n",
    "class CSRNet(nn.Module):\n",
    "    def __init__(self, load_weights=False):\n",
    "        super(CSRNet, self).__init__()\n",
    "        self.seen = 0\n",
    "        self.frontend_feat = [64, 64, 'M', 128, 128, 'M', 256, 256, 256, 'M', 512, 512, 512]\n",
    "        self.backend_feat = [512, 512, 512, 256, 128, 64]\n",
    "        self.frontend = make_layers(self.frontend_feat)\n",
    "        self.backend = make_layers(self.backend_feat,in_channels = 512,dilation = True)\n",
    "        self.output_layer = nn.Conv2d(64, 1, kernel_size=1)\n",
    "        if not load_weights:\n",
    "            mod = models.vgg16(pretrained = True)\n",
    "            self._initialize_weights()\n",
    "            items = list(self.frontend.state_dict().items())\n",
    "            _items = list(mod.state_dict().items())\n",
    "            for i in range(len(self.frontend.state_dict().items())):\n",
    "                items[i][1].data[:] = _items[i][1].data[:]\n",
    "    def forward(self,x):\n",
    "        x = self.frontend(x)\n",
    "        x = self.backend(x)\n",
    "        x = self.output_layer(x)\n",
    "        return x\n",
    "    def _initialize_weights(self):\n",
    "        for m in self.modules():\n",
    "            if isinstance(m, nn.Conv2d):\n",
    "                nn.init.normal_(m.weight, std=0.01)\n",
    "                if m.bias is not None:\n",
    "                    nn.init.constant_(m.bias, 0)\n",
    "            elif isinstance(m, nn.BatchNorm2d):\n",
    "                nn.init.constant_(m.weight, 1)\n",
    "                nn.init.constant_(m.bias, 0)"
   ]
  },
  {
   "cell_type": "code",
   "execution_count": 11,
   "id": "35a75ea0-b0ea-4cb5-a1fe-dcc852d48240",
   "metadata": {},
   "outputs": [],
   "source": [
    "# Define the functions to train and validate on a batch of data.\n",
    "def train_batch(model, data, optimizer, criterion):\n",
    "    model.train()\n",
    "    optimizer.zero_grad()\n",
    "    ims, gts, pts = data\n",
    "    _gts = model(ims)\n",
    "    loss = criterion(_gts, gts)\n",
    "    loss.backward()\n",
    "    optimizer.step()\n",
    "    pts_loss = nn.L1Loss()(_gts.sum(), gts.sum())\n",
    "    return loss.item(), pts_loss.item()\n",
    "\n",
    "@torch.no_grad()\n",
    "def validate_batch(model, data, criterion):\n",
    "    model.eval()\n",
    "    ims, gts, pts = data\n",
    "    _gts = model(ims)\n",
    "    loss = criterion(_gts, gts)\n",
    "    pts_loss = nn.L1Loss()(_gts.sum(), gts.sum())\n",
    "    return loss.item(), pts_loss.item()"
   ]
  },
  {
   "cell_type": "code",
   "execution_count": 12,
   "id": "37335698-1e0a-48d1-8b8a-41af85826dec",
   "metadata": {},
   "outputs": [
    {
     "name": "stderr",
     "output_type": "stream",
     "text": [
      "/usr/local/lib/python3.8/dist-packages/torchvision/models/_utils.py:208: UserWarning: The parameter 'pretrained' is deprecated since 0.13 and may be removed in the future, please use 'weights' instead.\n",
      "  warnings.warn(\n",
      "/usr/local/lib/python3.8/dist-packages/torchvision/models/_utils.py:223: UserWarning: Arguments other than a weight enum or `None` for 'weights' are deprecated since 0.13 and may be removed in the future. The current behavior is equivalent to passing `weights=VGG16_Weights.IMAGENET1K_V1`. You can also use `weights=VGG16_Weights.DEFAULT` to get the most up-to-date weights.\n",
      "  warnings.warn(msg)\n"
     ]
    },
    {
     "name": "stdout",
     "output_type": "stream",
     "text": [
      "EPOCH: 1.000  val_pts_loss: 414.745  val_loss: 0.057  trn_pts_loss: 415.094  trn_loss: 0.048  (43.28s - 822.29s remaining)\n",
      "EPOCH: 2.000  val_pts_loss: 335.720  val_loss: 0.050  trn_pts_loss: 282.662  trn_loss: 0.040  (83.76s - 753.82s remaining)\n",
      "EPOCH: 3.000  val_pts_loss: 213.091  val_loss: 0.043  trn_pts_loss: 210.276  trn_loss: 0.036  (124.41s - 705.00s remaining)\n",
      "EPOCH: 4.000  val_pts_loss: 161.006  val_loss: 0.042  trn_pts_loss: 165.753  trn_loss: 0.033  (165.06s - 660.25s remaining)\n",
      "EPOCH: 5.000  val_pts_loss: 147.614  val_loss: 0.041  trn_pts_loss: 149.124  trn_loss: 0.032  (205.73s - 617.19s remaining)\n",
      "EPOCH: 6.000  val_pts_loss: 187.365  val_loss: 0.040  trn_pts_loss: 145.506  trn_loss: 0.031  (246.39s - 574.90s remaining)\n",
      "EPOCH: 7.000  val_pts_loss: 123.916  val_loss: 0.038  trn_pts_loss: 146.487  trn_loss: 0.031  (287.04s - 533.08s remaining)\n",
      "EPOCH: 8.000  val_pts_loss: 129.504  val_loss: 0.038  trn_pts_loss: 137.223  trn_loss: 0.030  (327.71s - 491.56s remaining)\n",
      "EPOCH: 9.000  val_pts_loss: 126.334  val_loss: 0.037  trn_pts_loss: 134.589  trn_loss: 0.030  (368.37s - 450.23s remaining)\n",
      "EPOCH: 10.000  val_pts_loss: 140.064  val_loss: 0.038  trn_pts_loss: 134.266  trn_loss: 0.029  (409.02s - 409.02s remaining)\n",
      "EPOCH: 11.000  val_pts_loss: 127.630  val_loss: 0.037  trn_pts_loss: 137.119  trn_loss: 0.029  (449.64s - 367.89s remaining)\n",
      "EPOCH: 12.000  val_pts_loss: 119.753  val_loss: 0.036  trn_pts_loss: 129.339  trn_loss: 0.029  (490.29s - 326.86s remaining)\n",
      "EPOCH: 13.000  val_pts_loss: 191.183  val_loss: 0.038  trn_pts_loss: 127.508  trn_loss: 0.029  (530.93s - 285.89s remaining)\n",
      "EPOCH: 14.000  val_pts_loss: 135.189  val_loss: 0.036  trn_pts_loss: 131.516  trn_loss: 0.029  (571.55s - 244.95s remaining)\n",
      "EPOCH: 15.000  val_pts_loss: 145.996  val_loss: 0.036  trn_pts_loss: 126.861  trn_loss: 0.029  (612.17s - 204.06s remaining)\n",
      "EPOCH: 16.000  val_pts_loss: 123.975  val_loss: 0.036  trn_pts_loss: 116.993  trn_loss: 0.028  (652.78s - 163.19s remaining)\n",
      "EPOCH: 17.000  val_pts_loss: 135.237  val_loss: 0.036  trn_pts_loss: 114.732  trn_loss: 0.028  (693.38s - 122.36s remaining)\n",
      "EPOCH: 18.000  val_pts_loss: 124.955  val_loss: 0.035  trn_pts_loss: 112.494  trn_loss: 0.028  (733.95s - 81.55s remaining)\n",
      "EPOCH: 19.000  val_pts_loss: 127.869  val_loss: 0.035  trn_pts_loss: 114.805  trn_loss: 0.028  (774.55s - 40.77s remaining)\n",
      "EPOCH: 20.000  val_pts_loss: 121.930  val_loss: 0.035  trn_pts_loss: 112.936  trn_loss: 0.028  (815.13s - 0.00s remaining)\n"
     ]
    }
   ],
   "source": [
    "# Train the model over increasing epochs\n",
    "model = CSRNet().to(device)\n",
    "criterion = nn.MSELoss()\n",
    "optimizer = optim.Adam(model.parameters(), lr=1e-6)\n",
    "n_epochs = 20\n",
    "\n",
    "log = Report(n_epochs)\n",
    "for ex in range(n_epochs):\n",
    "    N = len(trn_dl)\n",
    "    for bx, data in enumerate(trn_dl):\n",
    "        loss, pts_loss = train_batch(model, data, optimizer, criterion)\n",
    "        log.record(ex+(bx+1)/N, trn_loss=loss, trn_pts_loss=pts_loss, end='\\r')\n",
    "\n",
    "    N = len(val_dl)\n",
    "    for bx, data in enumerate(val_dl):\n",
    "        loss, pts_loss = validate_batch(model, data, criterion)\n",
    "        log.record(ex+(bx+1)/N, val_loss=loss, val_pts_loss=pts_loss, end='\\r')\n",
    "\n",
    "    log.report_avgs(ex+1)"
   ]
  },
  {
   "cell_type": "markdown",
   "id": "dd7a0421-5941-4207-aa46-8104363bbe92",
   "metadata": {},
   "source": [
    "### Inference"
   ]
  },
  {
   "cell_type": "code",
   "execution_count": 13,
   "id": "a3494271-060c-41b1-a0af-e16446fb684a",
   "metadata": {},
   "outputs": [
    {
     "data": {
      "text/html": [
       "<pre style=\"white-space:pre;overflow-x:auto;line-height:normal;font-family:Menlo,'DejaVu Sans Mono',consolas,'Courier New',monospace\">shanghaitech_with_people_density_map/ShanghaiTech/part_A/test_data/images/IMG_40.jpg\n",
       "</pre>\n"
      ],
      "text/plain": [
       "shanghaitech_with_people_density_map/ShanghaiTech/part_A/test_data/images/IMG_40.jpg\n"
      ]
     },
     "metadata": {},
     "output_type": "display_data"
    }
   ],
   "source": [
    "# Get a test image and normalize it.\n",
    "from matplotlib import cm as c\n",
    "from torchvision import datasets, transforms\n",
    "from PIL import Image\n",
    "transform=transforms.Compose([\n",
    "                      transforms.ToTensor(),transforms.Normalize(\n",
    "                          mean=[0.485, 0.456, 0.406],\n",
    "                          std=[0.229, 0.224, 0.225]),\n",
    "                  ])\n",
    "\n",
    "test_folder = 'shanghaitech_with_people_density_map/ShanghaiTech/part_A/test_data/'\n",
    "imgs = Glob(f'{test_folder}/images')\n",
    "f = choose(imgs)\n",
    "print(f)\n",
    "img = transform(Image.open(f).convert('RGB')).to(device)"
   ]
  },
  {
   "cell_type": "code",
   "execution_count": 14,
   "id": "bd908565-eb0f-4b52-8502-09b91f8ded0a",
   "metadata": {},
   "outputs": [
    {
     "data": {
      "text/html": [
       "<pre style=\"white-space:pre;overflow-x:auto;line-height:normal;font-family:Menlo,'DejaVu Sans Mono',consolas,'Courier New',monospace\">Predicted Count :  <span style=\"color: #008080; text-decoration-color: #008080; font-weight: bold\">226</span>\n",
       "</pre>\n"
      ],
      "text/plain": [
       "Predicted Count :  \u001b[1;36m226\u001b[0m\n"
      ]
     },
     "metadata": {},
     "output_type": "display_data"
    },
    {
     "data": {
      "image/png": "[encoded data removed]",
      "text/plain": [
       "<Figure size 640x480 with 1 Axes>"
      ]
     },
     "metadata": {},
     "output_type": "display_data"
    }
   ],
   "source": [
    "# Pass the image through the trained model.\n",
    "output = model(img[None])\n",
    "print(\"Predicted Count : \",int(output.detach().cpu().sum().numpy()))\n",
    "temp = np.asarray(output.detach().cpu().reshape(output.detach().cpu().shape[2],output.detach().cpu().shape[3]))\n",
    "plt.imshow(temp,cmap = c.jet)\n",
    "plt.show()"
   ]
  },
  {
   "cell_type": "code",
   "execution_count": null,
   "id": "b4d7b393-a06f-41c4-bd8c-7fb2c7de8b48",
   "metadata": {},
   "outputs": [],
   "source": []
  }
 ],
 "metadata": {
  "kernelspec": {
   "display_name": "Python 3 (ipykernel)",
   "language": "python",
   "name": "python3"
  },
  "language_info": {
   "codemirror_mode": {
    "name": "ipython",
    "version": 3
   },
   "file_extension": ".py",
   "mimetype": "text/x-python",
   "name": "python",
   "nbconvert_exporter": "python",
   "pygments_lexer": "ipython3",
   "version": "3.8.10"
  }
 },
 "nbformat": 4,
 "nbformat_minor": 5
}
